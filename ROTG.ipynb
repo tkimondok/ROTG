{
  "nbformat": 4,
  "nbformat_minor": 0,
  "metadata": {
    "colab": {
      "name": "ROTG",
      "provenance": [],
      "authorship_tag": "ABX9TyN31g+kxBKDRJQEdCvCyhgY",
      "include_colab_link": true
    },
    "kernelspec": {
      "name": "python3",
      "display_name": "Python 3"
    },
    "language_info": {
      "name": "python"
    }
  },
  "cells": [
    {
      "cell_type": "markdown",
      "metadata": {
        "id": "view-in-github",
        "colab_type": "text"
      },
      "source": [
        "<a href=\"https://colab.research.google.com/github/tkimondok/ROTG/blob/main/ROTG.ipynb\" target=\"_parent\"><img src=\"https://colab.research.google.com/assets/colab-badge.svg\" alt=\"Open In Colab\"/></a>"
      ]
    },
    {
      "cell_type": "markdown",
      "source": [
        "# **<font color='red'> Ripping On The GO - This version of ROTG is for personal use only </font>**\n"
      ],
      "metadata": {
        "id": "wY3h46uXap-K"
      }
    },
    {
      "cell_type": "markdown",
      "source": [
        "## **<font color=\"red\">Catatan penting</font> - Setelah melakukan semua langkah, harap perhatikan bahwa tergantung pada ukuran file Anda dari file mp4 @ mkv, mungkin perlu beberapa saat untuk muncul di Google Drive Anda. Harap bersabar. Akhirnya, itu akan muncul di drive Anda.**\n",
        "###**<font color=\"red\">Untuk file besar</font> - mungkin perlu beberapa saat untuk muncul di Google Drive Anda. Jangan jalankan ulang kode jika tidak muncul dengan cepat. Tetap segarkan halaman Google Drive Anda untuk melihat apakah itu muncul**\n",
        "###**<font color=\"red\">Untuk file kecil</font> - itu akan muncul lebih cepat di Google Drive Anda. Tunggu saja sampai muncul. Tetap segarkan halaman Anda untuk melihat apakah itu muncul**\n",
        "###**<font color=\"red\">Pembaruan</font> - menambahkan beberapa fitur**\n",
        "* Multi fragments download (50 frags)\n",
        "* Add support extract and download subtitle via mpd.\n",
        "* Add support upload subtitle.\n",
        "* Add support convert vtt to srt.\n"
      ],
      "metadata": {
        "id": "J9tnZpEFbKJS"
      }
    },
    {
      "cell_type": "markdown",
      "source": [
        "#__Mount Google Drive__"
      ],
      "metadata": {
        "id": "cCgA1WHJb3KK"
      }
    },
    {
      "cell_type": "code",
      "source": [
        "#@title Klik \"Play\" untuk mount\n",
        "from google.colab import drive\n",
        "drive.mount('/content/drive')\n",
        "print(\"Mounted!\")"
      ],
      "metadata": {
        "cellView": "form",
        "id": "AlIrOqpMb1Bb"
      },
      "execution_count": null,
      "outputs": []
    },
    {
      "cell_type": "markdown",
      "source": [
        "#__Install ROTG tools__"
      ],
      "metadata": {
        "id": "jv-RQDMycIhR"
      }
    },
    {
      "cell_type": "code",
      "source": [
        "#@title Klik \"Play\" button untuk install\n",
        "from IPython.display import clear_output \n",
        "!sudo apt update\n",
        "!sudo curl -L https://github.com/yt-dlp/yt-dlp/releases/latest/download/yt-dlp -o /usr/local/bin/yt-dlp\n",
        "!sudo chmod a+rx /usr/local/bin/yt-dlp\n",
        "!sudo curl -L https://github.com/tkimondok/ROTG/raw/main/mp4decrypt -o /usr/local/bin/mp4decrypt\n",
        "!sudo chmod a+rx /usr/local/bin/mp4decrypt\n",
        "!sudo apt install ffmpeg\n",
        "!sudo apt -y install aria2\n",
        "clear_output()\n",
        "print(\"Install successful\")"
      ],
      "metadata": {
        "cellView": "form",
        "id": "7A_f6IA3cQHa"
      },
      "execution_count": null,
      "outputs": []
    },
    {
      "cell_type": "markdown",
      "source": [
        "#__1-CLICK RIPPING__"
      ],
      "metadata": {
        "id": "PUKHbPw-d3xQ"
      }
    },
    {
      "cell_type": "code",
      "source": [
        "#@markdown <h2>Extract manifest info</h2>\n",
        "MPD_URL = 'https://hbogoprod-vod.akamaized.net/video/vod/output/HBOAsia/60c51f4616b55f4d934d7cbc_hbovodhd/dash0/MYS_DOLBY_index.mpd' #@param {type:\"string\"}\n",
        "!yt-dlp --no-warnings --allow-u -F \"{MPD_URL}\"\n",
        "print(\"[Note:] Sila copy video ID dan audio ID dan masukkan di kotak dibawah:\")"
      ],
      "metadata": {
        "cellView": "form",
        "id": "uqJmkdPFd2up"
      },
      "execution_count": null,
      "outputs": []
    },
    {
      "cell_type": "code",
      "source": [
        "#@markdown <h2>Downloading video and audio</h2>\n",
        "from IPython.display import clear_output\n",
        "VIDEO_ID = 'video_avc1_1' #@param {type:\"string\"}\n",
        "AUDIO_ID = 'audio_DOLBY_ec-3' #@param {type:\"string\"}\n",
        "VIDEO_OUTPUT = 'default.mp4' #@param {type:\"string\"}\n",
        "AUDIO_OUTPUT = 'default.m4a' #@param {type:\"string\"}\n",
        "VIDEO_DECRYPT_OUTPUT = 'dec.mp4' #@param {type:\"string\"}\n",
        "AUDIO_DECRYPT_OUTPUT = 'dec.m4a' #@param {type:\"string\"}\n",
        "KID_KEY = 'bb34dd66328a5597b9ba6d7589d89ffe:54f10655fe0b033e9c820bde8d94618a' #@param {type:\"string\"}\n",
        "#@markdown <h4>INFO: Boleh terus save ke Drive @ Team Drive. Hanya perlu masukkan path diikuti output</h4>\n",
        "FINAL_OUTPUT = 'done.mp4' #@param {type:\"string\"}\n",
        "print(\"Downloading video.....\")\n",
        "!yt-dlp --no-warnings --allow-u -f \"{VIDEO_ID}\" \"{MPD_URL}\" -o \"{VIDEO_OUTPUT}\" -N 60\n",
        "clear_output()\n",
        "print(\"Success\")\n",
        "clear_output()\n",
        "print(\"Downloading audio.....\")\n",
        "!yt-dlp --no-warnings --allow-u -f \"{AUDIO_ID}\" \"{MPD_URL}\" -o \"{AUDIO_OUTPUT}\" -N 60\n",
        "clear_output()\n",
        "print(\"Success\")\n",
        "clear_output()\n",
        "print(\"Decrypting video.....\")\n",
        "!mp4decrypt --show-progress --key \"{KID_KEY}\" \"{VIDEO_OUTPUT}\" \"{VIDEO_DECRYPT_OUTPUT}\"\n",
        "clear_output()\n",
        "print(\"Success\")\n",
        "clear_output()\n",
        "print(\"Decrypting audio.....\")\n",
        "!mp4decrypt --show-progress --key \"{KID_KEY}\" \"{AUDIO_OUTPUT}\" \"{AUDIO_DECRYPT_OUTPUT}\"\n",
        "clear_output()\n",
        "print(\"Success\")\n",
        "clear_output()\n",
        "print(\"Merging video and audio into single file.....\")\n",
        "!ffmpeg -loglevel error -i \"{VIDEO_DECRYPT_OUTPUT}\" -i \"{AUDIO_DECRYPT_OUTPUT}\" -c copy \"{FINAL_OUTPUT}\"\n",
        "clear_output()\n",
        "print(\"Success\")\n",
        "clear_output()\n",
        "print(\"Video sudah siap dan ready to play @ share.....\\nUntuk masukkan subtitle, silahkan scroll kebawah.\")"
      ],
      "metadata": {
        "cellView": "form",
        "id": "yesgUWe2fF0p"
      },
      "execution_count": null,
      "outputs": []
    },
    {
      "cell_type": "markdown",
      "source": [
        "#__GETTING & DOWNLOADING SUBTITLE FROM MPD__"
      ],
      "metadata": {
        "id": "0wpWay7NqmiF"
      }
    },
    {
      "cell_type": "code",
      "source": [
        "#@title List all available subtitle:\n",
        "!yt-dlp --no-warnings --allow-u --list-subs \"{MPD_URL}\""
      ],
      "metadata": {
        "cellView": "form",
        "id": "vxllVZ7Rqx7M"
      },
      "execution_count": null,
      "outputs": []
    },
    {
      "cell_type": "code",
      "source": [
        "#@title Download all available subtitles:\n",
        "!yt-dlp --no-warnings --allow-u -N 32 --skip-download --all-subs \"{MPD_URL}\" -o subtitle"
      ],
      "metadata": {
        "cellView": "form",
        "id": "k9e_i_0LrM9t"
      },
      "execution_count": null,
      "outputs": []
    },
    {
      "cell_type": "code",
      "source": [
        "#@title Upload own subtitle:\n",
        "#@markdown *Please enable/allow all cookies from your browser to enable upload button.\n",
        "from google.colab import files\n",
        "uploaded = files.upload()"
      ],
      "metadata": {
        "cellView": "form",
        "id": "r_WdIliDrnbk"
      },
      "execution_count": null,
      "outputs": []
    },
    {
      "cell_type": "markdown",
      "source": [
        "#__CONVERT VTT TO SRT__"
      ],
      "metadata": {
        "id": "0HujI7AstIf0"
      }
    },
    {
      "cell_type": "code",
      "source": [
        "SUBTITLE_INPUT = 'subtitle.MA.vtt' #@param {type:\"string\"}\n",
        "SUBTITLE_OUTPUT = 'MA.srt' #@param {type:\"string\"}\n",
        "!ffmpeg -loglevel error -i \"{SUBTITLE_INPUT}\" \"{SUBTITLE_OUTPUT}\"\n",
        "clear_output()\n",
        "print(\"Done!\")"
      ],
      "metadata": {
        "cellView": "form",
        "id": "pxF8VMauwllD"
      },
      "execution_count": null,
      "outputs": []
    },
    {
      "cell_type": "markdown",
      "source": [
        "#__MUXING SUBTITLE__"
      ],
      "metadata": {
        "id": "UV6C9kmQp3q9"
      }
    },
    {
      "cell_type": "code",
      "source": [
        "#@title <h3>Mux 1 subtitle</h3>\n",
        "SUBTITLE = 'MA.srt' #@param {type:\"string\"}\n",
        "LANGUAGE = 'MA' #@param {type:\"string\"}\n",
        "OUTPUT = 'MOVIES.1080p.WEB-DL.AAC.H264-TKIMONDOK.mkv' #@param {type:\"string\"}\n",
        "!ffmpeg -i \"{FINAL_OUTPUT}\" -i \"{SUBTITLE}\" -map 0 -map 1:s -c copy -metadata:s:s:0 language=\"{LANGUAGE}\" \"{OUTPUT}\""
      ],
      "metadata": {
        "cellView": "form",
        "id": "b1mDBFgjp8qV"
      },
      "execution_count": null,
      "outputs": []
    },
    {
      "cell_type": "code",
      "source": [
        "#@markdown <h3>Mux 2 subtitles</h3>\n",
        "SUBTITLE_01 = 'eng.srt' #@param {type:\"string\"}\n",
        "SUBTITLE_02 = 'may.srt' #@param {type:\"string\"}\n",
        "LANGUAGE_01 = 'eng' #@param {type:\"string\"}\n",
        "LANGUAGE_02 = 'may' #@param {type:\"string\"}\n",
        "OUTPUT = 'MOVIES.1080p.WEB-DL.AAC.H264-TKIMONDOK.mkv' #@param {type:\"string\"}\n",
        "!ffmpeg -i \"{FINAL_OUTPUT}\" -i \"{SUBTITLE_01}\" -i \"{SUBTITLE_02}\" -map 0 -map 1:s -map 2:s -c copy -metadata:s:s:0 language=\"{LANGUAGE_01}\" -metadata:s:s:1 language=\"{LANGUAGE_02}\" \"{OUT_PUT}\""
      ],
      "metadata": {
        "cellView": "form",
        "id": "_Bgb2Pq-zlRh"
      },
      "execution_count": null,
      "outputs": []
    },
    {
      "cell_type": "code",
      "source": [
        "#@markdown <h3>Mux 3 subtitles</h3>\n",
        "SUBTITLE_01 = 'eng.srt' #@param {type:\"string\"}\n",
        "SUBTITLE_02 = 'may.srt' #@param {type:\"string\"}\n",
        "SUBTITLE_03 = 'chi.srt' #@param {type:\"string\"}\n",
        "LANGUAGE_01 = 'eng' #@param {type:\"string\"}\n",
        "LANGUAGE_02 = 'may' #@param {type:\"string\"}\n",
        "LANGUAGE_03 = 'chi' #@param {type:\"string\"}\n",
        "OUTPUT = 'MOVIES.1080p.WEB-DL.AAC.H264-TKIMONDOK.mkv' #@param {type:\"string\"}\n",
        "!ffmpeg -i \"{FINAL_OUTPUT}\" -i \"{SUBTITLE_01}\" -i \"{SUBTITLE_02}\" -i \"{SUBTITLE_03}\" -map 0 -map 1:s -map 2:s -map 3:s -c copy -metadata:s:s:0 language=\"{LANGUAGE_01}\" -metadata:s:s:1 language=\"{LANGUAGE_02}\" -metadata:s:s:2 language=\"{LANGUAGE_03}\" \"{OUTPUT}\""
      ],
      "metadata": {
        "cellView": "form",
        "id": "MJaafoKCzmbh"
      },
      "execution_count": null,
      "outputs": []
    },
    {
      "cell_type": "markdown",
      "source": [
        "#__COPY @ MOVE OUTPUT TO NEW PATH__"
      ],
      "metadata": {
        "id": "fdy9C6b304ZA"
      }
    },
    {
      "cell_type": "code",
      "source": [
        "#@markdown <h3>Copy output (No Subtitle) from root to new path</h3>\n",
        "NEW_PATH = '/content/drive/MyDrive' #@param {type:\"string\"}\n",
        "!cp -r \"{FINAL_OUTPUT}\" \"{NEW_PATH}\""
      ],
      "metadata": {
        "cellView": "form",
        "id": "TE3-gr2Z05UQ"
      },
      "execution_count": null,
      "outputs": []
    },
    {
      "cell_type": "code",
      "source": [
        "#@markdown <h3>Copy output (Muxed subtitle) from root to new path</h3>\n",
        "NEW_PATH = '/content/drive/MyDrive' #@param {type:\"string\"}\n",
        "!cp -r \"{OUTPUT}\" \"{NEW_PATH}\""
      ],
      "metadata": {
        "cellView": "form",
        "id": "a1tYzM4X0-AI"
      },
      "execution_count": null,
      "outputs": []
    },
    {
      "cell_type": "code",
      "source": [
        "#@markdown <h3>Move output (No Subtitle) from root to new path</h3>\n",
        "NEW_PATH = '/content/drive/MyDrive' #@param {type:\"string\"}\n",
        "!mv \"{FINAL_OUTPUT}\" \"{NEW_PATH}\""
      ],
      "metadata": {
        "cellView": "form",
        "id": "yCKJCRnl0__A"
      },
      "execution_count": null,
      "outputs": []
    },
    {
      "cell_type": "code",
      "source": [
        "#@markdown <h3>Move output (Muxed subtitle) from root to new path</h3>\n",
        "NEW_PATH = '/content/drive/MyDrive' #@param {type:\"string\"}\n",
        "!cp -r \"{OUTPUT}\" \"{NEW_PATH}\""
      ],
      "metadata": {
        "cellView": "form",
        "id": "-mFqGU941CRo"
      },
      "execution_count": null,
      "outputs": []
    },
    {
      "cell_type": "markdown",
      "source": [
        "#__Upload to Gofile.io__"
      ],
      "metadata": {
        "id": "EgfH5-qG1Htp"
      }
    },
    {
      "cell_type": "code",
      "source": [
        "#@markdown <h3>Get Gofile.io serverID</h3>\n",
        "!curl https://api.gofile.io/getServer"
      ],
      "metadata": {
        "cellView": "form",
        "id": "ZmtPzzzi1IDh"
      },
      "execution_count": null,
      "outputs": []
    },
    {
      "cell_type": "code",
      "source": [
        "#@markdown <h3>Upload No Subtitle</h3>\n",
        "SERVER = 'store1' #@param {type:\"string\"}\n",
        "!curl -F file=@\"{FINAL_OUTPUT}\" https://\"{SERVER}\".gofile.io/uploadFile"
      ],
      "metadata": {
        "cellView": "form",
        "id": "mfc1t5Xv1KAR"
      },
      "execution_count": null,
      "outputs": []
    },
    {
      "cell_type": "code",
      "source": [
        "#@markdown <h3>Upload Muxed Subtitle</h3>\n",
        "SERVER = 'store1' #@param {type:\"string\"}\n",
        "!curl -F file=@\"{OUTPUT}\" https://\"{SERVER}\".gofile.io/uploadFile"
      ],
      "metadata": {
        "cellView": "form",
        "id": "Kl6ozZIy1Lqc"
      },
      "execution_count": null,
      "outputs": []
    },
    {
      "cell_type": "markdown",
      "source": [
        "# 💪 Creator Pijanify\n",
        "# 📦 Original Repo: [Github](https://github.com/pijanify/yt-dlp-ripping-colab)\n",
        "\n",
        "# 🙏 This version of ROTG is for personal use only.\n",
        "\n",
        "Credit: <a href=\"https://github.com/yt-dlp/yt-dlp\">yt-dlp</a>, <a href=\"https://github.com/NanDesuKa-FR/mp4decrypt_mod_linux\">mp4decrypt modded version</a>, and YOU!"
      ],
      "metadata": {
        "id": "T-TCVLAE1a4x"
      }
    }
  ]
}
